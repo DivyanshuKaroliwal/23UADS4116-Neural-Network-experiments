{
  "nbformat": 4,
  "nbformat_minor": 0,
  "metadata": {
    "colab": {
      "provenance": [],
      "authorship_tag": "ABX9TyPjbtpTxCtgVtkpcCLR3YMx"
    },
    "kernelspec": {
      "name": "python3",
      "display_name": "Python 3"
    },
    "language_info": {
      "name": "python"
    }
  },
  "cells": [
    {
      "cell_type": "code",
      "source": [
        "import numpy as np\n",
        "class Perceptron:\n",
        "    def __init__(self, input_size, learning_rate=0.1, epochs=500):\n",
        "        self.weights = np.random.randn(input_size + 1)  # Including bias\n",
        "        self.learning_rate = learning_rate\n",
        "        self.epochs = epochs\n",
        "\n",
        "    def activation(self, x):\n",
        "        return 1 if x >= 0 else 0\n",
        "\n",
        "    def predict(self, x):\n",
        "        x = np.insert(x, 0, 1)  # Bias term\n",
        "        return self.activation(np.dot(self.weights, x))\n",
        "\n",
        "    def train(self, X, y):\n",
        "        for _ in range(self.epochs):\n",
        "            for xi, target in zip(X, y):\n",
        "                xi = np.insert(xi, 0, 1)  # Adding bias term\n",
        "                output = self.activation(np.dot(self.weights, xi))\n",
        "                self.weights += self.learning_rate * (target - output) * xi\n",
        "\n",
        "    def evaluate(self, X, y):\n",
        "        predictions = [self.predict(xi) for xi in X]\n",
        "        accuracy = sum(p == t for p, t in zip(predictions, y)) / len(y)\n",
        "        return accuracy\n",
        "# NAND Dataset\n",
        "nand_X = np.array([[0, 0], [0, 1], [1, 0], [1, 1]])\n",
        "nand_y = np.array([1, 1, 1, 0])  # NAND truth table\n",
        "\n",
        "# XOR Dataset\n",
        "xor_X = np.array([[0, 0], [0, 1], [1, 0], [1, 1]])\n",
        "xor_y = np.array([0, 1, 1, 0])  # XOR truth table\n",
        "# Train Perceptron for NAND\n",
        "nand_perceptron = Perceptron(input_size=2)\n",
        "nand_perceptron.train(nand_X, nand_y)\n",
        "nand_accuracy = nand_perceptron.evaluate(nand_X, nand_y)\n",
        "print(f\"NAND Perceptron Accuracy: {nand_accuracy * 100:.2f}%\")\n",
        "\n",
        "# Train Perceptron for XOR\n",
        "xor_perceptron = Perceptron(input_size=2)\n",
        "xor_perceptron.train(xor_X, xor_y)\n",
        "xor_accuracy = xor_perceptron.evaluate(xor_X, xor_y)\n",
        "print(f\"XOR Perceptron Accuracy: {xor_accuracy * 100:.2f}%\")"
      ],
      "metadata": {
        "colab": {
          "base_uri": "https://localhost:8080/"
        },
        "id": "FmiGXgkei6j3",
        "outputId": "8ff7a649-e1c2-4376-f422-0f219ae676d8"
      },
      "execution_count": 1,
      "outputs": [
        {
          "output_type": "stream",
          "name": "stdout",
          "text": [
            "NAND Perceptron Accuracy: 100.00%\n",
            "XOR Perceptron Accuracy: 50.00%\n"
          ]
        }
      ]
    }
  ]
}